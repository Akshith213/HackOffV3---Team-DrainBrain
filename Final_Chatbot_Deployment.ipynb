{
  "nbformat": 4,
  "nbformat_minor": 0,
  "metadata": {
    "accelerator": "GPU",
    "colab": {
      "name": "Final_Chatbot_Deployment.ipynb",
      "provenance": [],
      "collapsed_sections": [],
      "authorship_tag": "ABX9TyMYWQmcoM6mmpW+hFgwcOs5",
      "include_colab_link": true
    },
    "kernelspec": {
      "display_name": "Python 3",
      "name": "python3"
    }
  },
  "cells": [
    {
      "cell_type": "markdown",
      "metadata": {
        "id": "view-in-github",
        "colab_type": "text"
      },
      "source": [
        "<a href=\"https://colab.research.google.com/github/Akshith213/HackOffV3---Team-DrainBrain/blob/main/Final_Chatbot_Deployment.ipynb\" target=\"_parent\"><img src=\"https://colab.research.google.com/assets/colab-badge.svg\" alt=\"Open In Colab\"/></a>"
      ]
    },
    {
      "cell_type": "code",
      "metadata": {
        "id": "wbB097ztakdp"
      },
      "source": [
        "# Run this cell to import/download all the neccesary libraries and also to instantiate 'FAISS' document store  and store the medical corpus in it.\r\n",
        "!pip install git+https://github.com/deepset-ai/haystack.git\r\n",
        "!pip install urllib3==1.25.4\r\n",
        "!pip install torch==1.6.0+cu101 torchvision==0.6.1+cu101 -f https://download.pytorch.org/whl/torch_stable.html\r\n",
        "\r\n",
        "from haystack import Finder\r\n",
        "from haystack.preprocessor.cleaning import clean_wiki_text\r\n",
        "from haystack.preprocessor.utils import convert_files_to_dicts, fetch_archive_from_http\r\n",
        "from haystack.reader.farm import FARMReader\r\n",
        "from haystack.reader.transformers import TransformersReader\r\n",
        "from haystack.utils import print_answers\r\n",
        "\r\n",
        "from haystack.document_store.faiss import FAISSDocumentStore\r\n",
        "\r\n",
        "document_store = FAISSDocumentStore(faiss_index_factory_str=\"Flat\")\r\n",
        "\r\n",
        "doc_dir = \"data/healthcare_corpus\"\r\n",
        "s3_url = \"https://drainbrain.s3.amazonaws.com/Hackoff+Data-20201129T103328Z-001.zip\"\r\n",
        "#s3_url = \"https://drainbrain.s3.amazonaws.com/Drugs+hack+off-20201213T060446Z-001+(2).zip\"\r\n",
        "\r\n",
        "fetch_archive_from_http(url=s3_url, output_dir=doc_dir)\r\n",
        "\r\n",
        "dicts = convert_files_to_dicts(dir_path=doc_dir, clean_func=clean_wiki_text, split_paragraphs=True)\r\n",
        "\r\n",
        "document_store.write_documents(dicts)"
      ],
      "execution_count": null,
      "outputs": []
    },
    {
      "cell_type": "code",
      "metadata": {
        "id": "if37iWSBbZsz"
      },
      "source": [
        "# Run this cell to instantiate the 'Dense Passage Retrieval' Retriever\r\n",
        "from haystack.retriever.dense import DensePassageRetriever\r\n",
        "retriever = DensePassageRetriever(document_store=document_store,\r\n",
        "                                  query_embedding_model=\"facebook/dpr-question_encoder-single-nq-base\",\r\n",
        "                                  passage_embedding_model=\"facebook/dpr-ctx_encoder-single-nq-base\",\r\n",
        "                                  max_seq_len_query=64,\r\n",
        "                                  max_seq_len_passage=256,\r\n",
        "                                  batch_size=16,\r\n",
        "                                  use_gpu=True,\r\n",
        "                                  embed_title=True,\r\n",
        "                                  use_fast_tokenizers=True)\r\n",
        "document_store.update_embeddings(retriever)\r\n"
      ],
      "execution_count": null,
      "outputs": []
    },
    {
      "cell_type": "code",
      "metadata": {
        "id": "3_9vz5iFg9_V"
      },
      "source": [
        "#Run this cell to instantiate the reader which is a Roberta base model pretrained on Stanford Squad dataset\r\n",
        "reader = FARMReader(model_name_or_path=\"deepset/roberta-base-squad2\", use_gpu=True)"
      ],
      "execution_count": null,
      "outputs": []
    },
    {
      "cell_type": "code",
      "metadata": {
        "colab": {
          "base_uri": "https://localhost:8080/"
        },
        "id": "zNmUzDavd4Bk",
        "outputId": "f513a452-15af-4981-aa21-4d90919bcf12"
      },
      "source": [
        "# Run this cell to create a pipeline containing both retriever and reader\r\n",
        "finder = Finder(reader, retriever)"
      ],
      "execution_count": 4,
      "outputs": [
        {
          "output_type": "stream",
          "text": [
            "12/13/2020 08:20:13 - WARNING - haystack.finder -   DEPRECATION WARNINGS: \n",
            "            1. The 'Finder' class will be deprecated in the next Haystack release in \n",
            "            favour of a new `Pipeline` class that supports building custom search pipelines using Haystack components\n",
            "            including Retriever, Readers, and Generators.\n",
            "            For more details, please refer to the issue: https://github.com/deepset-ai/haystack/issues/544\n",
            "            2. The `question` parameter in search requests & results is renamed to `query`.\n"
          ],
          "name": "stderr"
        }
      ]
    },
    {
      "cell_type": "code",
      "metadata": {
        "id": "8uZ9Khmsuw_o"
      },
      "source": [
        "# Function to output the predictions from the finder\r\n",
        "def print_final_answers(predictions):\r\n",
        "  pred=[]\r\n",
        "  final_ans=''\r\n",
        "  ans_1=''\r\n",
        "  for i in range (len(predictions['answers'])):\r\n",
        "    ans=predictions['answers'][i]['answer']\r\n",
        "    con=predictions['answers'][i]['context']\r\n",
        "    pro=predictions['answers'][i]['probability']\r\n",
        "    #print('Answer: ',ans)\r\n",
        "    #print('Context: ',con)\r\n",
        "    #print('Probability: ',pro)\r\n",
        "    #print('-------------------------------------------------------------------------------------------------------------------------------------------------------------')\r\n",
        "    ans_1=str(ans)+';'+str(con)+';'+str(pro)+'@'\r\n",
        "    final_ans=str(final_ans)+str(ans_1)\r\n",
        "  return str(final_ans)"
      ],
      "execution_count": 5,
      "outputs": []
    },
    {
      "cell_type": "code",
      "metadata": {
        "id": "AUlau338g8WE"
      },
      "source": [
        "# If you want to check the model performance without any help of an interface, uncomment the 3 lines of code below, run this cell and ask your medical query\r\n",
        "#que=input()\r\n",
        "#prediction = finder.get_answers(question=que, top_k_retriever=15, top_k_reader=3)\r\n",
        "#print_final_answers(prediction)\r\n"
      ],
      "execution_count": null,
      "outputs": []
    },
    {
      "cell_type": "code",
      "metadata": {
        "id": "obXIDTC9hbcZ"
      },
      "source": [
        "# Run this cell to install mysql packages\r\n",
        "!pip install mysql-connector-python"
      ],
      "execution_count": null,
      "outputs": []
    },
    {
      "cell_type": "code",
      "metadata": {
        "id": "EN2f7-JAh37Q"
      },
      "source": [
        "# Run this cell to import the necessary libraries for connecting to the sql database\r\n",
        "import mysql.connector\r\n",
        "from mysql.connector import Error"
      ],
      "execution_count": 7,
      "outputs": []
    },
    {
      "cell_type": "code",
      "metadata": {
        "id": "yMpJ57LAh57M"
      },
      "source": [
        "# Run this cell to connect to the database, retrieve a question, find an answer to that question and send it again to the database. Once you are done, just stop the execution of the cell\r\n",
        "while (True):\r\n",
        "  connection = mysql.connector.connect(host='remotemysql.com',database='E786ozefXp',user='E786ozefXp',password='AJVykSfVuB')\r\n",
        "  cursor = connection.cursor()\r\n",
        "  cursor.execute(\"SELECT * from requests\")\r\n",
        "  myresult = cursor.fetchone()\r\n",
        "  connection.close()\r\n",
        "  if (myresult):\r\n",
        "    req_id=myresult[0]\r\n",
        "    username=myresult[1]\r\n",
        "    question_user=myresult[2]\r\n",
        "    print(req_id)\r\n",
        "    print(username)\r\n",
        "    print(question_user)\r\n",
        "    #sql1 = \"DELETE FROM requests WHERE req_id = %s\"\r\n",
        "    #val1 = (req_id)\r\n",
        "    connection = mysql.connector.connect(host='remotemysql.com',database='E786ozefXp',user='E786ozefXp',password='AJVykSfVuB')\r\n",
        "    cursor = connection.cursor()\r\n",
        "    cursor.execute(\"DELETE FROM requests WHERE req_id = %s \",(req_id,))\r\n",
        "    connection.commit()\r\n",
        "    connection.close()\r\n",
        "    print('Success1!')\r\n",
        "    predictions=finder.get_answers(question=question_user, top_k_retriever=10, top_k_reader=2)\r\n",
        "    pred=print_final_answers(predictions)\r\n",
        "    print('Success2')\r\n",
        "    #sql2 = \"UPDATE users SET question = %s, answer= %s WHERE username = %s\"\r\n",
        "    #val2 = (question_user, pred, username )\r\n",
        "    connection = mysql.connector.connect(host='remotemysql.com',database='E786ozefXp',user='E786ozefXp',password='AJVykSfVuB')\r\n",
        "    cursor = connection.cursor()\r\n",
        "    cursor.execute(\"UPDATE users SET question = %s, answer = %s WHERE username = %s\",(question_user,pred,username,))\r\n",
        "    connection.commit()\r\n",
        "    connection.close()\r\n",
        "    print('Success3')\r\n",
        "  else:\r\n",
        "    pass\r\n"
      ],
      "execution_count": null,
      "outputs": []
    },
    {
      "cell_type": "code",
      "metadata": {
        "id": "IsKlP8t7L-SL"
      },
      "source": [
        ""
      ],
      "execution_count": null,
      "outputs": []
    }
  ]
}